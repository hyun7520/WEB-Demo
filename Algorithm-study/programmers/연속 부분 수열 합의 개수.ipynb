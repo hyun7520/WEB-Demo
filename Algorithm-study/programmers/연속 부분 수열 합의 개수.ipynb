{
 "cells": [
  {
   "cell_type": "code",
   "execution_count": null,
   "metadata": {},
   "outputs": [],
   "source": [
    "def solution(elements):\n",
    "    answer = 0\n",
    "    check = []\n",
    "    length = len(elements)\n",
    "    for idx in range(1, length + 1):\n",
    "        for j in range(0, length, idx):\n",
    "            if elements[idx] + j\n",
    "\n",
    "    return answer"
   ]
  }
 ],
 "metadata": {
  "language_info": {
   "name": "python"
  },
  "orig_nbformat": 4
 },
 "nbformat": 4,
 "nbformat_minor": 2
}
