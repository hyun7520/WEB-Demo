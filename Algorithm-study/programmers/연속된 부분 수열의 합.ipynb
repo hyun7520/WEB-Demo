{
 "cells": [
  {
   "cell_type": "code",
   "execution_count": 168,
   "metadata": {},
   "outputs": [],
   "source": [
    "def solution(sequence, k):\n",
    "    answer = []\n",
    "\n",
    "    seqLen = len(sequence)\n",
    "    sum = 0\n",
    "    start = 0\n",
    "    end = 0\n",
    "    minTmp = 0\n",
    "    temp = []\n",
    "\n",
    "    for start in range(seqLen):\n",
    "        sum = sequence[start]\n",
    "        end = start\n",
    "        if sum == k:\n",
    "            temp.append([start,start])\n",
    "            break\n",
    "        while end + 1 < seqLen:\n",
    "            end += 1\n",
    "            sum += sequence[end]\n",
    "            if sum > k:\n",
    "                break\n",
    "            if sum == k:\n",
    "                temp[0][0] = start\n",
    "                temp[0][1] = end\n",
    "                break\n",
    "    \n",
    "    temp.sort(key=lambda x: (x[1]-x[0], x[0]))            \n",
    "    answer = temp[0]\n",
    "\n",
    "    return answer"
   ]
  },
  {
   "cell_type": "code",
   "execution_count": 169,
   "metadata": {},
   "outputs": [
    {
     "name": "stdout",
     "output_type": "stream",
     "text": [
      "[6, 6]\n"
     ]
    }
   ],
   "source": [
    "seq = [1, 1, 1, 2, 3, 4, 5]\n",
    "k = 5\n",
    "\n",
    "print(solution(seq, k))"
   ]
  },
  {
   "cell_type": "code",
   "execution_count": 8,
   "metadata": {},
   "outputs": [],
   "source": [
    "for i in range(5, len(seq)):\n",
    "    print(seq[i])"
   ]
  }
 ],
 "metadata": {
  "kernelspec": {
   "display_name": "Python 3",
   "language": "python",
   "name": "python3"
  },
  "language_info": {
   "codemirror_mode": {
    "name": "ipython",
    "version": 3
   },
   "file_extension": ".py",
   "mimetype": "text/x-python",
   "name": "python",
   "nbconvert_exporter": "python",
   "pygments_lexer": "ipython3",
   "version": "3.9.2"
  },
  "orig_nbformat": 4
 },
 "nbformat": 4,
 "nbformat_minor": 2
}
