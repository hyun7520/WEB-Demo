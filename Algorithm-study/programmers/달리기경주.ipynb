{
 "cells": [
  {
   "cell_type": "code",
   "execution_count": 5,
   "metadata": {},
   "outputs": [],
   "source": [
    "players = [\"mumu\", \"soe\", \"poe\", \"kai\", \"mine\"]\n",
    "callings = [\"kai\", \"kai\", \"mine\", \"mine\"]"
   ]
  },
  {
   "cell_type": "code",
   "execution_count": 11,
   "metadata": {},
   "outputs": [],
   "source": [
    "def solution(players, callings):\n",
    "    answer = []\n",
    "    player_dict = {player: i for i, player in enumerate(players)}\n",
    "    rank_dict = {i: player for i, player in enumerate(players)}\n",
    "\n",
    "    for call in callings:\n",
    "        \n",
    "\n",
    "    return answer"
   ]
  },
  {
   "cell_type": "code",
   "execution_count": 14,
   "metadata": {},
   "outputs": [
    {
     "name": "stdout",
     "output_type": "stream",
     "text": [
      "{'mumu': 0, 'soe': 1, 'poe': 2, 'kai': 3, 'mine': 4} \n",
      " {0: 'mumu', 1: 'soe', 2: 'poe', 3: 'kai', 4: 'mine'}\n"
     ]
    }
   ],
   "source": [
    "p_idx_dict, idx_p_dict = solution(players, callings)\n",
    "print(p_idx_dict, \"\\n\", idx_p_dict)"
   ]
  }
 ],
 "metadata": {
  "kernelspec": {
   "display_name": "Python 3",
   "language": "python",
   "name": "python3"
  },
  "language_info": {
   "codemirror_mode": {
    "name": "ipython",
    "version": 3
   },
   "file_extension": ".py",
   "mimetype": "text/x-python",
   "name": "python",
   "nbconvert_exporter": "python",
   "pygments_lexer": "ipython3",
   "version": "3.9.2"
  },
  "orig_nbformat": 4
 },
 "nbformat": 4,
 "nbformat_minor": 2
}
