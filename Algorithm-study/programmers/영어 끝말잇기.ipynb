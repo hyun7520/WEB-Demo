{
 "cells": [
  {
   "cell_type": "code",
   "execution_count": 3,
   "metadata": {},
   "outputs": [],
   "source": [
    "def solution(n, words):\n",
    "    answer = []\n",
    "\n",
    "    playerList = []\n",
    "    playerNum = 0\n",
    "    for i in range(n):\n",
    "        playerList.append([])  \n",
    "\n",
    "    \n",
    "        for j in range(n):\n",
    "\n",
    "\n",
    "\n",
    "    return answer"
   ]
  },
  {
   "cell_type": "code",
   "execution_count": 13,
   "metadata": {},
   "outputs": [],
   "source": [
    "n = 3\n",
    "words = [\"tank\", \"kick\", \"know\", \"wheel\", \"land\", \"dream\", \"mother\", \"robot\", \"tank\"]\n",
    "\n",
    "# print(solution(n, words))"
   ]
  },
  {
   "cell_type": "code",
   "execution_count": 14,
   "metadata": {},
   "outputs": [],
   "source": [
    "playerList = []\n",
    "playerNum = 0\n",
    "for i in range(n):\n",
    "    playerList.append([])\n",
    "\n",
    "for word in words:     \n",
    "    playerList[playerNum].append(word)\n",
    "    playerNum += 1\n",
    "    playerNum %= n"
   ]
  },
  {
   "cell_type": "code",
   "execution_count": 15,
   "metadata": {},
   "outputs": [
    {
     "data": {
      "text/plain": [
       "[['tank', 'wheel', 'mother'],\n",
       " ['kick', 'land', 'robot'],\n",
       " ['know', 'dream', 'tank']]"
      ]
     },
     "execution_count": 15,
     "metadata": {},
     "output_type": "execute_result"
    }
   ],
   "source": [
    "playerList"
   ]
  },
  {
   "cell_type": "code",
   "execution_count": null,
   "metadata": {},
   "outputs": [],
   "source": [
    "0,0  0,1  0,2\n",
    "1,0  1,1  1,2\n",
    "2,0  2,2  2,2"
   ]
  },
  {
   "cell_type": "code",
   "execution_count": 11,
   "metadata": {},
   "outputs": [
    {
     "name": "stdout",
     "output_type": "stream",
     "text": [
      "0\n"
     ]
    }
   ],
   "source": [
    "print(3 % 3)"
   ]
  }
 ],
 "metadata": {
  "kernelspec": {
   "display_name": "Python 3",
   "language": "python",
   "name": "python3"
  },
  "language_info": {
   "codemirror_mode": {
    "name": "ipython",
    "version": 3
   },
   "file_extension": ".py",
   "mimetype": "text/x-python",
   "name": "python",
   "nbconvert_exporter": "python",
   "pygments_lexer": "ipython3",
   "version": "3.9.2"
  },
  "orig_nbformat": 4
 },
 "nbformat": 4,
 "nbformat_minor": 2
}
