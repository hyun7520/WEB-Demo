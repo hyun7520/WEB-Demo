{
 "cells": [
  {
   "cell_type": "code",
   "execution_count": 8,
   "metadata": {},
   "outputs": [],
   "source": [
    "def solution(arr1, arr2):\n",
    "    answer = [([0] for row in range(len(arr2[0]))) for col in range(len(arr1))]\n",
    "\n",
    "    for x in range(len(arr1)):\n",
    "        for y in range(len(arr2[0])):\n",
    "            for idx in range(len(arr1[0])):\n",
    "                answer[x][y] = arr1[x][idx] * arr2[idx][y]\n",
    "\n",
    "    return answer"
   ]
  },
  {
   "cell_type": "code",
   "execution_count": 9,
   "metadata": {},
   "outputs": [
    {
     "ename": "IndexError",
     "evalue": "list index out of range",
     "output_type": "error",
     "traceback": [
      "\u001b[1;31m---------------------------------------------------------------------------\u001b[0m",
      "\u001b[1;31mIndexError\u001b[0m                                Traceback (most recent call last)",
      "\u001b[1;32mc:\\Users\\sangh\\OneDrive\\바탕 화면\\WEB-Demo\\Algorithm-study\\programmers\\행렬의 곱셈.ipynb Cell 2\u001b[0m in \u001b[0;36m<cell line: 3>\u001b[1;34m()\u001b[0m\n\u001b[0;32m      <a href='vscode-notebook-cell:/c%3A/Users/sangh/OneDrive/%EB%B0%94%ED%83%95%20%ED%99%94%EB%A9%B4/WEB-Demo/Algorithm-study/programmers/%ED%96%89%EB%A0%AC%EC%9D%98%20%EA%B3%B1%EC%85%88.ipynb#W1sZmlsZQ%3D%3D?line=0'>1</a>\u001b[0m arr1 \u001b[39m=\u001b[39m [[\u001b[39m1\u001b[39m, \u001b[39m4\u001b[39m], [\u001b[39m3\u001b[39m, \u001b[39m2\u001b[39m], [\u001b[39m4\u001b[39m, \u001b[39m1\u001b[39m]]\n\u001b[0;32m      <a href='vscode-notebook-cell:/c%3A/Users/sangh/OneDrive/%EB%B0%94%ED%83%95%20%ED%99%94%EB%A9%B4/WEB-Demo/Algorithm-study/programmers/%ED%96%89%EB%A0%AC%EC%9D%98%20%EA%B3%B1%EC%85%88.ipynb#W1sZmlsZQ%3D%3D?line=1'>2</a>\u001b[0m arr2 \u001b[39m=\u001b[39m [[\u001b[39m3\u001b[39m, \u001b[39m3\u001b[39m], [\u001b[39m3\u001b[39m, \u001b[39m3\u001b[39m]]\n\u001b[1;32m----> <a href='vscode-notebook-cell:/c%3A/Users/sangh/OneDrive/%EB%B0%94%ED%83%95%20%ED%99%94%EB%A9%B4/WEB-Demo/Algorithm-study/programmers/%ED%96%89%EB%A0%AC%EC%9D%98%20%EA%B3%B1%EC%85%88.ipynb#W1sZmlsZQ%3D%3D?line=2'>3</a>\u001b[0m \u001b[39mprint\u001b[39m(solution(arr1, arr2))\n",
      "\u001b[1;32mc:\\Users\\sangh\\OneDrive\\바탕 화면\\WEB-Demo\\Algorithm-study\\programmers\\행렬의 곱셈.ipynb Cell 2\u001b[0m in \u001b[0;36msolution\u001b[1;34m(arr1, arr2)\u001b[0m\n\u001b[0;32m      <a href='vscode-notebook-cell:/c%3A/Users/sangh/OneDrive/%EB%B0%94%ED%83%95%20%ED%99%94%EB%A9%B4/WEB-Demo/Algorithm-study/programmers/%ED%96%89%EB%A0%AC%EC%9D%98%20%EA%B3%B1%EC%85%88.ipynb#W1sZmlsZQ%3D%3D?line=8'>9</a>\u001b[0m temp \u001b[39m=\u001b[39m queue\u001b[39m.\u001b[39mpop(\u001b[39m0\u001b[39m)\n\u001b[0;32m     <a href='vscode-notebook-cell:/c%3A/Users/sangh/OneDrive/%EB%B0%94%ED%83%95%20%ED%99%94%EB%A9%B4/WEB-Demo/Algorithm-study/programmers/%ED%96%89%EB%A0%AC%EC%9D%98%20%EA%B3%B1%EC%85%88.ipynb#W1sZmlsZQ%3D%3D?line=9'>10</a>\u001b[0m \u001b[39mfor\u001b[39;00m idx \u001b[39min\u001b[39;00m temp:\n\u001b[1;32m---> <a href='vscode-notebook-cell:/c%3A/Users/sangh/OneDrive/%EB%B0%94%ED%83%95%20%ED%99%94%EB%A9%B4/WEB-Demo/Algorithm-study/programmers/%ED%96%89%EB%A0%AC%EC%9D%98%20%EA%B3%B1%EC%85%88.ipynb#W1sZmlsZQ%3D%3D?line=10'>11</a>\u001b[0m     answer[x]\u001b[39m.\u001b[39mappend(idx \u001b[39m*\u001b[39m arr2[x][y])\n\u001b[0;32m     <a href='vscode-notebook-cell:/c%3A/Users/sangh/OneDrive/%EB%B0%94%ED%83%95%20%ED%99%94%EB%A9%B4/WEB-Demo/Algorithm-study/programmers/%ED%96%89%EB%A0%AC%EC%9D%98%20%EA%B3%B1%EC%85%88.ipynb#W1sZmlsZQ%3D%3D?line=11'>12</a>\u001b[0m     y \u001b[39m+\u001b[39m\u001b[39m=\u001b[39m \u001b[39m1\u001b[39m\n\u001b[0;32m     <a href='vscode-notebook-cell:/c%3A/Users/sangh/OneDrive/%EB%B0%94%ED%83%95%20%ED%99%94%EB%A9%B4/WEB-Demo/Algorithm-study/programmers/%ED%96%89%EB%A0%AC%EC%9D%98%20%EA%B3%B1%EC%85%88.ipynb#W1sZmlsZQ%3D%3D?line=12'>13</a>\u001b[0m \u001b[39mif\u001b[39;00m \u001b[39mlen\u001b[39m(answer[x]) \u001b[39m>\u001b[39m \u001b[39m3\u001b[39m:\n",
      "\u001b[1;31mIndexError\u001b[0m: list index out of range"
     ]
    }
   ],
   "source": [
    "arr1 = [[1, 4], [3, 2], [4, 1]]\n",
    "arr2 = [[3, 3], [3, 3]]\n",
    "print(solution(arr1, arr2))"
   ]
  },
  {
   "cell_type": "code",
   "execution_count": null,
   "metadata": {},
   "outputs": [],
   "source": [
    "def solution(arr1, arr2):\n",
    "    answer = [[0]*len(arr2[0]) for _ in range(len(arr1))]\n",
    "    for i in range(len(arr1)): \n",
    "        lists = []\n",
    "        for j in range(len(arr2[0])): \n",
    "            for k in range(len(arr1[0])): \n",
    "                answer[i][j] += arr1[i][k] * arr2[k][j]\n",
    "    return answer"
   ]
  }
 ],
 "metadata": {
  "kernelspec": {
   "display_name": "Python 3",
   "language": "python",
   "name": "python3"
  },
  "language_info": {
   "codemirror_mode": {
    "name": "ipython",
    "version": 3
   },
   "file_extension": ".py",
   "mimetype": "text/x-python",
   "name": "python",
   "nbconvert_exporter": "python",
   "pygments_lexer": "ipython3",
   "version": "3.9.2"
  },
  "orig_nbformat": 4
 },
 "nbformat": 4,
 "nbformat_minor": 2
}
